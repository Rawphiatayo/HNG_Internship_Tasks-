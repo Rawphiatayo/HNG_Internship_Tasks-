{
 "cells": [
  {
   "cell_type": "code",
   "execution_count": 1,
   "id": "739aed17",
   "metadata": {},
   "outputs": [],
   "source": [
    "import pandas as pd\n",
    "from geopy.geocoders import Nominatim\n",
    "import time"
   ]
  },
  {
   "cell_type": "code",
   "execution_count": 2,
   "id": "1cdf64d1",
   "metadata": {},
   "outputs": [
    {
     "name": "stdout",
     "output_type": "stream",
     "text": [
      "   State  LGA                Ward       PU-Code                      PU-Name  \\\n",
      "0  KWARA  ASA       YOWERE/SOSOKI  23-01-01-002           ONIYEYE OPEN SPACE   \n",
      "1  KWARA  ASA       YOWERE/SOSOKI  23-01-01-003           LAODU 1 OPEN SPACE   \n",
      "2  KWARA  ASA       YOWERE/SOSOKI  23-01-01-004          IDI-OSE L.G.E.A SCH   \n",
      "3  KWARA  ASA  ELEBUE/AGBONA/FATA  23-01-03-004  MEGIDA EDUNJO OPEN SPACE II   \n",
      "4  KWARA  ASA  ELEBUE/AGBONA/FATA  23-01-03-006         IGBOROKO L.G.E.A SCH   \n",
      "\n",
      "                                        Full_Address  Latitude  Longitude  \\\n",
      "0               ASA YOWERE/SOSOKI ONIYEYE OPEN SPACE  8.591231   4.399403   \n",
      "1               ASA YOWERE/SOSOKI LAODU 1 OPEN SPACE  8.581165   4.455840   \n",
      "2              ASA YOWERE/SOSOKI IDI-OSE L.G.E.A SCH  8.601927   4.407921   \n",
      "3  ASA ELEBUE/AGBONA/FATA MEGIDA EDUNJO OPEN SPAC...  8.865052   4.070663   \n",
      "4        ASA ELEBUE/AGBONA/FATA IGBOROKO L.G.E.A SCH  8.264133   4.470320   \n",
      "\n",
      "   Accredited_Voters  Registered_Voters  ...  Result_Sheet_Stamped  \\\n",
      "0                220                750  ...                 False   \n",
      "1                235                786  ...                 False   \n",
      "2                250                876  ...                 False   \n",
      "3                153                407  ...                 False   \n",
      "4                189                633  ...                 False   \n",
      "\n",
      "   Result_Sheet_Corrected  Result_Sheet_Invalid  Result_Sheet_Unclear  \\\n",
      "0                   False                 False                 False   \n",
      "1                   False                 False                 False   \n",
      "2                    True                 False                 False   \n",
      "3                   False                 False                 False   \n",
      "4                   False                 False                 False   \n",
      "\n",
      "   Result_Sheet_Unsigned  APC LP  PDP  NNPP  \\\n",
      "0                UNKNOWN  106  0  109     0   \n",
      "1                UNKNOWN  135  0   81     1   \n",
      "2                UNKNOWN  116  0   99     0   \n",
      "3                UNKNOWN   80  0   70     0   \n",
      "4                UNKNOWN    0  0    0     0   \n",
      "\n",
      "                                        Results_File  \n",
      "0  https://docs.inecelectionresults.net/elections...  \n",
      "1  https://docs.inecelectionresults.net/elections...  \n",
      "2  https://docs.inecelectionresults.net/elections...  \n",
      "3  https://docs.inecelectionresults.net/elections...  \n",
      "4  https://docs.inecelectionresults.net/elections...  \n",
      "\n",
      "[5 rows x 22 columns]\n"
     ]
    }
   ],
   "source": [
    "df = pd.read_excel('Stage2_KWARA_crosschecked.xlsx')\n",
    "print(df.head(5))"
   ]
  },
  {
   "cell_type": "code",
   "execution_count": 3,
   "id": "bcc1ee3b",
   "metadata": {},
   "outputs": [
    {
     "name": "stdout",
     "output_type": "stream",
     "text": [
      "Neighbour search complete!\n"
     ]
    }
   ],
   "source": [
    "import pandas as pd\n",
    "import numpy as np\n",
    "from sklearn.neighbors import BallTree\n",
    "\n",
    "# Convert coordinates to radians\n",
    "coords = np.radians(df[['Latitude', 'Longitude']].values)\n",
    "\n",
    "# Build BallTree using Haversine distance\n",
    "tree = BallTree(coords, metric='haversine')\n",
    "\n",
    "# Define search radius (convert km to radians)\n",
    "radius_km = 5\n",
    "radius = radius_km / 6371.0  # Earth radius in km\n",
    "\n",
    "# Find neighbours within radius for each point\n",
    "indices = tree.query_radius(coords, r=radius)\n",
    "\n",
    "# Store neighbours (excluding self)\n",
    "df['neighbours'] = [list(neigh[neigh != i]) for i, neigh in enumerate(indices)]\n",
    "\n",
    "# Add corresponding PU names for neighbours\n",
    "df['neighbours_pu_name'] = [\n",
    "    df.loc[neigh, 'PU-Name'].tolist() for neigh in df['neighbours']\n",
    "]\n",
    "\n",
    "print(\"Neighbour search complete!\")\n"
   ]
  },
  {
   "cell_type": "code",
   "execution_count": 4,
   "id": "139b7322",
   "metadata": {},
   "outputs": [
    {
     "name": "stdout",
     "output_type": "stream",
     "text": [
      "State LGA                Ward      PU-Code                     PU-Name                                       Full_Address  Latitude  Longitude  Accredited_Voters  Registered_Voters  Results_Found  Transcription_Count  Result_Sheet_Stamped  Result_Sheet_Corrected  Result_Sheet_Invalid  Result_Sheet_Unclear Result_Sheet_Unsigned  APC  LP  PDP  NNPP                                                                                                       Results_File       neighbours                                                                  neighbours_pu_name\n",
      "KWARA ASA       YOWERE/SOSOKI 23-01-01-002          ONIYEYE OPEN SPACE               ASA YOWERE/SOSOKI ONIYEYE OPEN SPACE  8.591231   4.399403                220                750           True                   -1                 False                   False                 False                 False               UNKNOWN  106   0  109     0         https://docs.inecelectionresults.net/elections_prod/1292/state/01/lga/01/ward/01/pu/002/002-1677389827.pdf [1531, 5, 11, 2]  [OJUDE COURT ALAPA, ALAPA L.G.E.A SCH, ALAPA KORO OPEN SPACE, IDI-OSE L.G.E.A SCH]\n",
      "KWARA ASA       YOWERE/SOSOKI 23-01-01-003          LAODU 1 OPEN SPACE               ASA YOWERE/SOSOKI LAODU 1 OPEN SPACE  8.581165   4.455840                235                786           True                   -1                 False                   False                 False                 False               UNKNOWN  135   0   81     1         https://docs.inecelectionresults.net/elections_prod/1292/state/01/lga/01/ward/01/pu/003/003-1677387846.pdf [952, 953, 1550]                          [ODE ADIGBONGBO I, ODE ADIGBONGBO II, ONIYEYE LGEA SCHOOL]\n",
      "KWARA ASA       YOWERE/SOSOKI 23-01-01-004         IDI-OSE L.G.E.A SCH              ASA YOWERE/SOSOKI IDI-OSE L.G.E.A SCH  8.601927   4.407921                250                876           True                   -1                 False                    True                 False                 False               UNKNOWN  116   0   99     0         https://docs.inecelectionresults.net/elections_prod/1292/state/01/lga/01/ward/01/pu/004/004-1677389332.pdf [0, 1531, 5, 11]   [ONIYEYE OPEN SPACE, OJUDE COURT ALAPA, ALAPA L.G.E.A SCH, ALAPA KORO OPEN SPACE]\n",
      "KWARA ASA  ELEBUE/AGBONA/FATA 23-01-03-004 MEGIDA EDUNJO OPEN SPACE II ASA ELEBUE/AGBONA/FATA MEGIDA EDUNJO OPEN SPACE II  8.865052   4.070663                153                407           True                   -1                 False                   False                 False                 False               UNKNOWN   80   0   70     0         https://docs.inecelectionresults.net/elections_prod/1292/state/01/lga/01/ward/03/pu/004/004-1677380330.pdf               []                                                                                  []\n",
      "KWARA ASA  ELEBUE/AGBONA/FATA 23-01-03-006        IGBOROKO L.G.E.A SCH        ASA ELEBUE/AGBONA/FATA IGBOROKO L.G.E.A SCH  8.264133   4.470320                189                633           True                   -1                 False                   False                 False                 False               UNKNOWN    0   0    0     0         https://docs.inecelectionresults.net/elections_prod/1292/state/01/lga/01/ward/03/pu/006/006-1677392296.pdf               []                                                                                  []\n",
      "KWARA ASA ONIRE/ODEGIWA/ALAPA 23-01-04-001           ALAPA L.G.E.A SCH          ASA ONIRE/ODEGIWA/ALAPA ALAPA L.G.E.A SCH  8.631024   4.380926                264                751           True                   -1                 False                   False                 False                 False               UNKNOWN  162   6   85     1         https://docs.inecelectionresults.net/elections_prod/1292/state/01/lga/01/ward/04/pu/001/001-1677412839.pdf [0, 1531, 11, 2] [ONIYEYE OPEN SPACE, OJUDE COURT ALAPA, ALAPA KORO OPEN SPACE, IDI-OSE L.G.E.A SCH]\n",
      "KWARA ASA ONIRE/ODEGIWA/ALAPA 23-01-04-002         KONDORO L.G.E.A SCH        ASA ONIRE/ODEGIWA/ALAPA KONDORO L.G.E.A SCH 35.706701 139.868190                300                678           True                   -1                 False                    True                 False                 False               UNKNOWN  189   0  105     0         https://docs.inecelectionresults.net/elections_prod/1292/state/01/lga/01/ward/04/pu/002/002-1677400541.pdf          [10, 8]                                          [LABITAN L.G.E.A SCH, ONIKEKE L.G.E.A SCH]\n",
      "KWARA ASA ONIRE/ODEGIWA/ALAPA 23-01-04-003             ODE-GIWA MARKET            ASA ONIRE/ODEGIWA/ALAPA ODE-GIWA MARKET  8.683215   4.298543                237                749           True                   -1                 False                   False                 False                 False               UNKNOWN   96   0  117     0         https://docs.inecelectionresults.net/elections_prod/1292/state/01/lga/01/ward/04/pu/003/003-1677397741.pdf           [1468]                                                                     [BUDO AIYEKALE]\n",
      "KWARA ASA ONIRE/ODEGIWA/ALAPA 23-01-04-004         ONIKEKE L.G.E.A SCH        ASA ONIRE/ODEGIWA/ALAPA ONIKEKE L.G.E.A SCH 35.706701 139.868190                318                750           True                   -1                 False                   False                 False                 False               UNKNOWN    0   0    0     0 https://docs.inecelectionresults.net/elections_prod/1292/state/1/lga/3592/ward/23094/pu/75408/75408-1677778554.pdf          [10, 6]                                          [LABITAN L.G.E.A SCH, KONDORO L.G.E.A SCH]\n",
      "KWARA ASA ONIRE/ODEGIWA/ALAPA 23-01-04-005     ONIRE ALHAJI OPEN SPACE    ASA ONIRE/ODEGIWA/ALAPA ONIRE ALHAJI OPEN SPACE  8.692648   4.253364                166                686           True                   -1                 False                   False                 False                 False               UNKNOWN   98   1   53     6         https://docs.inecelectionresults.net/elections_prod/1292/state/01/lga/01/ward/04/pu/005/005-1677394153.pdf       [12, 1468]                                                 [BAKASE L.G.E.A SCH, BUDO AIYEKALE]\n"
     ]
    }
   ],
   "source": [
    "print(df.head(10).to_string(index=False))"
   ]
  },
  {
   "cell_type": "code",
   "execution_count": 5,
   "id": "67083ab9",
   "metadata": {},
   "outputs": [],
   "source": [
    "# Suppose these are your party columns\n",
    "parties = ['APC', 'PDP', 'LP', 'NNPP',]\n",
    "\n",
    "# Initialize columns for outlier scores\n",
    "for party in parties:\n",
    "    df[f'{party}_outlier_score'] = np.nan\n",
    "\n",
    "# Function to compute outlier scores\n",
    "for i, row in df.iterrows():\n",
    "    neighbours = df.loc[row['neighbours']]\n",
    "    for party in parties:\n",
    "        if len(neighbours) > 0:\n",
    "            neighbour_mean = neighbours[party].mean()\n",
    "            neighbour_std = neighbours[party].std()\n",
    "            if neighbour_std > 0:\n",
    "                score = abs(row[party] - neighbour_mean) / neighbour_std\n",
    "                df.loc[i, f'{party}_outlier_score'] = score\n"
   ]
  },
  {
   "cell_type": "code",
   "execution_count": 6,
   "id": "38716287",
   "metadata": {},
   "outputs": [
    {
     "name": "stdout",
     "output_type": "stream",
     "text": [
      "   State  LGA                 Ward       PU-Code                      PU-Name                                        Full_Address   Latitude   Longitude  Accredited_Voters  Registered_Voters  Results_Found  Transcription_Count  Result_Sheet_Stamped  Result_Sheet_Corrected  Result_Sheet_Invalid  Result_Sheet_Unclear Result_Sheet_Unsigned  APC  LP  PDP  NNPP                                                                                                        Results_File        neighbours                                                                   neighbours_pu_name  APC_outlier_score  PDP_outlier_score  LP_outlier_score  NNPP_outlier_score\n",
      "0  KWARA  ASA        YOWERE/SOSOKI  23-01-01-002           ONIYEYE OPEN SPACE                ASA YOWERE/SOSOKI ONIYEYE OPEN SPACE   8.591231    4.399403                220                750           True                   -1                 False                   False                 False                 False               UNKNOWN  106   0  109     0          https://docs.inecelectionresults.net/elections_prod/1292/state/01/lga/01/ward/01/pu/002/002-1677389827.pdf  [1531, 5, 11, 2]   [OJUDE COURT ALAPA, ALAPA L.G.E.A SCH, ALAPA KORO OPEN SPACE, IDI-OSE L.G.E.A SCH]           0.822425           0.100083          0.833333            0.500000\n",
      "1  KWARA  ASA        YOWERE/SOSOKI  23-01-01-003           LAODU 1 OPEN SPACE                ASA YOWERE/SOSOKI LAODU 1 OPEN SPACE   8.581165    4.455840                235                786           True                   -1                 False                   False                 False                 False               UNKNOWN  135   0   81     1          https://docs.inecelectionresults.net/elections_prod/1292/state/01/lga/01/ward/01/pu/003/003-1677387846.pdf  [952, 953, 1550]                           [ODE ADIGBONGBO I, ODE ADIGBONGBO II, ONIYEYE LGEA SCHOOL]           0.346297           0.843820          0.577350                 NaN\n",
      "2  KWARA  ASA        YOWERE/SOSOKI  23-01-01-004          IDI-OSE L.G.E.A SCH               ASA YOWERE/SOSOKI IDI-OSE L.G.E.A SCH   8.601927    4.407921                250                876           True                   -1                 False                    True                 False                 False               UNKNOWN  116   0   99     0          https://docs.inecelectionresults.net/elections_prod/1292/state/01/lga/01/ward/01/pu/004/004-1677389332.pdf  [0, 1531, 5, 11]    [ONIYEYE OPEN SPACE, OJUDE COURT ALAPA, ALAPA L.G.E.A SCH, ALAPA KORO OPEN SPACE]           0.515048           0.545133          0.833333            0.500000\n",
      "3  KWARA  ASA   ELEBUE/AGBONA/FATA  23-01-03-004  MEGIDA EDUNJO OPEN SPACE II  ASA ELEBUE/AGBONA/FATA MEGIDA EDUNJO OPEN SPACE II   8.865052    4.070663                153                407           True                   -1                 False                   False                 False                 False               UNKNOWN   80   0   70     0          https://docs.inecelectionresults.net/elections_prod/1292/state/01/lga/01/ward/03/pu/004/004-1677380330.pdf                []                                                                                   []                NaN                NaN               NaN                 NaN\n",
      "4  KWARA  ASA   ELEBUE/AGBONA/FATA  23-01-03-006         IGBOROKO L.G.E.A SCH         ASA ELEBUE/AGBONA/FATA IGBOROKO L.G.E.A SCH   8.264133    4.470320                189                633           True                   -1                 False                   False                 False                 False               UNKNOWN    0   0    0     0          https://docs.inecelectionresults.net/elections_prod/1292/state/01/lga/01/ward/03/pu/006/006-1677392296.pdf                []                                                                                   []                NaN                NaN               NaN                 NaN\n",
      "5  KWARA  ASA  ONIRE/ODEGIWA/ALAPA  23-01-04-001            ALAPA L.G.E.A SCH           ASA ONIRE/ODEGIWA/ALAPA ALAPA L.G.E.A SCH   8.631024    4.380926                264                751           True                   -1                 False                   False                 False                 False               UNKNOWN  162   6   85     1          https://docs.inecelectionresults.net/elections_prod/1292/state/01/lga/01/ward/04/pu/001/001-1677412839.pdf  [0, 1531, 11, 2]  [ONIYEYE OPEN SPACE, OJUDE COURT ALAPA, ALAPA KORO OPEN SPACE, IDI-OSE L.G.E.A SCH]           0.744322           2.024243          2.500000                 NaN\n",
      "6  KWARA  ASA  ONIRE/ODEGIWA/ALAPA  23-01-04-002          KONDORO L.G.E.A SCH         ASA ONIRE/ODEGIWA/ALAPA KONDORO L.G.E.A SCH  35.706701  139.868190                300                678           True                   -1                 False                    True                 False                 False               UNKNOWN  189   0  105     0          https://docs.inecelectionresults.net/elections_prod/1292/state/01/lga/01/ward/04/pu/002/002-1677400541.pdf           [10, 8]                                           [LABITAN L.G.E.A SCH, ONIKEKE L.G.E.A SCH]           3.005204           1.853107          0.707107                 NaN\n",
      "7  KWARA  ASA  ONIRE/ODEGIWA/ALAPA  23-01-04-003              ODE-GIWA MARKET             ASA ONIRE/ODEGIWA/ALAPA ODE-GIWA MARKET   8.683215    4.298543                237                749           True                   -1                 False                   False                 False                 False               UNKNOWN   96   0  117     0          https://docs.inecelectionresults.net/elections_prod/1292/state/01/lga/01/ward/04/pu/003/003-1677397741.pdf            [1468]                                                                      [BUDO AIYEKALE]                NaN                NaN               NaN                 NaN\n",
      "8  KWARA  ASA  ONIRE/ODEGIWA/ALAPA  23-01-04-004          ONIKEKE L.G.E.A SCH         ASA ONIRE/ODEGIWA/ALAPA ONIKEKE L.G.E.A SCH  35.706701  139.868190                318                750           True                   -1                 False                   False                 False                 False               UNKNOWN    0   0    0     0  https://docs.inecelectionresults.net/elections_prod/1292/state/1/lga/3592/ward/23094/pu/75408/75408-1677778554.pdf           [10, 6]                                           [LABITAN L.G.E.A SCH, KONDORO L.G.E.A SCH]           1.577392           2.452306          0.707107                 NaN\n",
      "9  KWARA  ASA  ONIRE/ODEGIWA/ALAPA  23-01-04-005      ONIRE ALHAJI OPEN SPACE     ASA ONIRE/ODEGIWA/ALAPA ONIRE ALHAJI OPEN SPACE   8.692648    4.253364                166                686           True                   -1                 False                   False                 False                 False               UNKNOWN   98   1   53     6          https://docs.inecelectionresults.net/elections_prod/1292/state/01/lga/01/ward/04/pu/005/005-1677394153.pdf        [12, 1468]                                                  [BAKASE L.G.E.A SCH, BUDO AIYEKALE]           0.098666           0.283642               NaN            1.414214\n"
     ]
    }
   ],
   "source": [
    "print(df.head(10).to_string())"
   ]
  },
  {
   "cell_type": "code",
   "execution_count": 9,
   "id": "4b2c022b",
   "metadata": {},
   "outputs": [],
   "source": [
    "df['neighbours'] = df['neighbours'].apply(lambda x: ', '.join(str(int(i)) for i in x))\n",
    "df['neighbours_pu_name'] = df['neighbours_pu_name'].apply(lambda x: ', '.join(x))\n",
    "df.to_csv('cleaned_neighbours.csv', index=False)\n"
   ]
  },
  {
   "cell_type": "code",
   "execution_count": 7,
   "id": "eac53249",
   "metadata": {},
   "outputs": [
    {
     "name": "stdout",
     "output_type": "stream",
     "text": [
      "✅ Export complete! All parties saved in one CSV file: all_outliers_per_party.csv\n"
     ]
    }
   ],
   "source": [
    "import pandas as pd\n",
    "\n",
    "# Define your CSV file name\n",
    "output_file = \"all_outliers_per_party.csv\"\n",
    "\n",
    "# Create an empty list to store data for all parties\n",
    "all_parties = []\n",
    "\n",
    "for party in parties:\n",
    "    # Sort all rows for the party\n",
    "    party_outliers = df.sort_values(by=f'{party}_outlier_score', ascending=False).copy()\n",
    "    party_outliers['party'] = party\n",
    "\n",
    "    # Convert list columns to readable text\n",
    "    party_outliers['neighbours'] = party_outliers['neighbours'].apply(lambda x: ', '.join(map(str, x)) if isinstance(x, list) else x)\n",
    "    party_outliers['neighbours_pu_name'] = party_outliers['neighbours_pu_name'].apply(lambda x: ', '.join(map(str, x)) if isinstance(x, list) else x)\n",
    "\n",
    "    # Select relevant columns\n",
    "    export_cols = ['party', 'PU-Name', f'{party}_outlier_score', 'neighbours', 'neighbours_pu_name']\n",
    "\n",
    "    # Add to list\n",
    "    all_parties.append(party_outliers[export_cols])\n",
    "\n",
    "# Combine all parties into one DataFrame\n",
    "final_df = pd.concat(all_parties, ignore_index=True)\n",
    "\n",
    "# Export to CSV (with index)\n",
    "final_df.to_csv(output_file, index=True)\n",
    "\n",
    "print(\"✅ Export complete! All parties saved in one CSV file:\", output_file)\n",
    "\n"
   ]
  },
  {
   "cell_type": "code",
   "execution_count": 8,
   "id": "a3ac8c80",
   "metadata": {},
   "outputs": [],
   "source": [
    "# Didnt later use this but keeping for reference\n",
    "df.to_excel('excel_final_with_outlier_lat_long.xlsx')\n"
   ]
  },
  {
   "cell_type": "code",
   "execution_count": null,
   "id": "35d072e7",
   "metadata": {},
   "outputs": [],
   "source": [
    "for party in parties:\n",
    "    top_outliers = df.sort_values(by=f'{party}_outlier_score', ascending=False).head(10)\n",
    "    print(f\"Top outliers for {party}:\")\n",
    "    print(top_outliers[['PU-Name', f'{party}_outlier_score', 'neighbours', 'neighbours_pu_name']].to_string())\n",
    "    print(\"\\n\" + \"-\"*80 + \"\\n\")\n"
   ]
  },
  {
   "cell_type": "code",
   "execution_count": 78,
   "id": "fd3cfaf9",
   "metadata": {},
   "outputs": [
    {
     "name": "stdout",
     "output_type": "stream",
     "text": [
      "✅ Export complete! Each sheet now includes the PU_Index column showing the original DataFrame index.\n"
     ]
    }
   ],
   "source": [
    "import pandas as pd\n",
    "\n",
    "# Define your Excel file name\n",
    "output_file = \"all_outliers_per_party.xlsx\"\n",
    "\n",
    "# Create an Excel writer\n",
    "with pd.ExcelWriter(output_file, engine='openpyxl') as writer:\n",
    "    for party in parties:\n",
    "        # Sort all rows for the party\n",
    "        party_outliers = df.sort_values(by=f'{party}_outlier_score', ascending=False).copy()\n",
    "        party_outliers['party'] = party\n",
    "\n",
    "        # Add the original index as a column\n",
    "        party_outliers.reset_index(inplace=True)\n",
    "        party_outliers.rename(columns={'index': 'PU_Index'}, inplace=True)\n",
    "\n",
    "        # Convert lists to readable comma-separated strings\n",
    "        party_outliers['neighbours'] = party_outliers['neighbours'].apply(\n",
    "            lambda x: ', '.join(str(int(i)) for i in x) if isinstance(x, (list, tuple)) else str(x)\n",
    "        )\n",
    "        party_outliers['neighbours_pu_name'] = party_outliers['neighbours_pu_name'].apply(\n",
    "            lambda x: ', '.join(map(str, x)) if isinstance(x, (list, tuple)) else str(x)\n",
    "        )\n",
    "\n",
    "        # Select relevant columns\n",
    "        export_cols = ['PU_Index', 'party', 'PU-Name', f'{party}_outlier_score', 'neighbours', 'neighbours_pu_name']\n",
    "\n",
    "        # Write to new sheet\n",
    "        party_outliers[export_cols].to_excel(writer, sheet_name=party, index=False)\n",
    "\n",
    "print(\"✅ Export complete! Each sheet now includes the PU_Index column showing the original DataFrame index.\")\n"
   ]
  },
  {
   "cell_type": "code",
   "execution_count": 76,
   "id": "3936098f",
   "metadata": {},
   "outputs": [
    {
     "name": "stdout",
     "output_type": "stream",
     "text": [
      "✅ Map saved — top 3 outliers are red arrows, next 7 are blue arrows.\n"
     ]
    }
   ],
   "source": [
    "import folium\n",
    "\n",
    "# Create map centered on your state\n",
    "m = folium.Map(location=[df['Latitude'].mean(), df['Longitude'].mean()], zoom_start=8)\n",
    "\n",
    "# Get top 10 outliers by APC_outlier_score\n",
    "top10 = df.sort_values(by='NNPP_outlier_score', ascending=False).head(10)\n",
    "\n",
    "# Get top 3 separately\n",
    "top3_indices = top10.head(3).index\n",
    "\n",
    "# Add the 10 polling units with arrow markers\n",
    "for i, row in top10.iterrows():\n",
    "    color = 'red' if i in top3_indices else 'blue'\n",
    "    icon = folium.Icon(color=color, icon='play', prefix='fa')  # triangle/arrow-like icon\n",
    "    \n",
    "    folium.Marker(\n",
    "        location=[row['Latitude'], row['Longitude']],\n",
    "        popup=f\"{row['PU-Name']} (Score: {row['NNPP_outlier_score']})\",\n",
    "        icon=icon\n",
    "    ).add_to(m)\n",
    "\n",
    "# Save map\n",
    "m.save('NNPP_election_outliers_map.html')\n",
    "\n",
    "print(\"✅ Map saved — top 3 outliers are red arrows, next 7 are blue arrows.\")\n"
   ]
  },
  {
   "cell_type": "code",
   "execution_count": 89,
   "id": "10b351f1",
   "metadata": {},
   "outputs": [
    {
     "data": {
      "text/html": [
       "<style type=\"text/css\">\n",
       "#T_80a82 th {\n",
       "  background-color: #f2f2f2;\n",
       "  font-weight: bold;\n",
       "}\n",
       "#T_80a82 td {\n",
       "  border: 1px solid #ccc;\n",
       "}\n",
       "#T_80a82 table {\n",
       "  border-collapse: collapse;\n",
       "  width: 100%;\n",
       "}\n",
       "#T_80a82_row0_col2 {\n",
       "  background-color: #67000d;\n",
       "  color: #f1f1f1;\n",
       "}\n",
       "#T_80a82_row1_col2 {\n",
       "  background-color: #f14130;\n",
       "  color: #f1f1f1;\n",
       "}\n",
       "#T_80a82_row2_col2 {\n",
       "  background-color: #fff5f0;\n",
       "  color: #000000;\n",
       "}\n",
       "</style>\n",
       "<table id=\"T_80a82\">\n",
       "  <thead>\n",
       "    <tr>\n",
       "      <th class=\"blank level0\" >&nbsp;</th>\n",
       "      <th id=\"T_80a82_level0_col0\" class=\"col_heading level0 col0\" >Party</th>\n",
       "      <th id=\"T_80a82_level0_col1\" class=\"col_heading level0 col1\" >PU-Name</th>\n",
       "      <th id=\"T_80a82_level0_col2\" class=\"col_heading level0 col2\" >Outlier_Score</th>\n",
       "      <th id=\"T_80a82_level0_col3\" class=\"col_heading level0 col3\" >Latitude</th>\n",
       "      <th id=\"T_80a82_level0_col4\" class=\"col_heading level0 col4\" >Longitude</th>\n",
       "    </tr>\n",
       "  </thead>\n",
       "  <tbody>\n",
       "    <tr>\n",
       "      <th id=\"T_80a82_level0_row0\" class=\"row_heading level0 row0\" >769</th>\n",
       "      <td id=\"T_80a82_row0_col0\" class=\"data row0 col0\" >NNPP</td>\n",
       "      <td id=\"T_80a82_row0_col1\" class=\"data row0 col1\" >OPEN SPACE ODE  OPELE</td>\n",
       "      <td id=\"T_80a82_row0_col2\" class=\"data row0 col2\" >133.756</td>\n",
       "      <td id=\"T_80a82_row0_col3\" class=\"data row0 col3\" >8.4347</td>\n",
       "      <td id=\"T_80a82_row0_col4\" class=\"data row0 col4\" >4.6657</td>\n",
       "    </tr>\n",
       "    <tr>\n",
       "      <th id=\"T_80a82_level0_row1\" class=\"row_heading level0 row1\" >77</th>\n",
       "      <td id=\"T_80a82_row1_col0\" class=\"data row1 col0\" >APC</td>\n",
       "      <td id=\"T_80a82_row1_col1\" class=\"data row1 col1\" >WAGURU MARKET</td>\n",
       "      <td id=\"T_80a82_row1_col2\" class=\"data row1 col2\" >99.702</td>\n",
       "      <td id=\"T_80a82_row1_col3\" class=\"data row1 col3\" >9.0393</td>\n",
       "      <td id=\"T_80a82_row1_col4\" class=\"data row1 col4\" >3.6218</td>\n",
       "    </tr>\n",
       "    <tr>\n",
       "      <th id=\"T_80a82_level0_row2\" class=\"row_heading level0 row2\" >1270</th>\n",
       "      <td id=\"T_80a82_row2_col0\" class=\"data row2 col0\" >PDP</td>\n",
       "      <td id=\"T_80a82_row2_col1\" class=\"data row2 col1\" >MOLEKE VILLAGE</td>\n",
       "      <td id=\"T_80a82_row2_col2\" class=\"data row2 col2\" >47.376</td>\n",
       "      <td id=\"T_80a82_row2_col3\" class=\"data row2 col3\" >8.8310</td>\n",
       "      <td id=\"T_80a82_row2_col4\" class=\"data row2 col4\" >4.5418</td>\n",
       "    </tr>\n",
       "  </tbody>\n",
       "</table>\n"
      ],
      "text/plain": [
       "<pandas.io.formats.style.Styler at 0x2e925891bd0>"
      ]
     },
     "execution_count": 89,
     "metadata": {},
     "output_type": "execute_result"
    }
   ],
   "source": [
    "import pandas as pd\n",
    "\n",
    "# Define parties\n",
    "parties = ['APC', 'PDP', 'LP', 'NNPP']\n",
    "\n",
    "# Combine all outlier scores into one DataFrame\n",
    "all_outliers = pd.concat([\n",
    "    df[['PU-Name', f'{party}_outlier_score', 'Latitude', 'Longitude']]\n",
    "    .rename(columns={f'{party}_outlier_score': 'Outlier_Score'})\n",
    "    .assign(Party=party)\n",
    "    for party in parties\n",
    "])\n",
    "\n",
    "# Get top 3 overall outliers regardless of party\n",
    "top3_all = all_outliers.sort_values(by='Outlier_Score', ascending=False).head(3)\n",
    "\n",
    "# Reorder columns\n",
    "top3_all = top3_all[['Party', 'PU-Name', 'Outlier_Score', 'Latitude', 'Longitude']]\n",
    "\n",
    "# --- Display as styled DataFrame ---\n",
    "styled_table = (\n",
    "    top3_all.style\n",
    "    .background_gradient(subset=['Outlier_Score'], cmap='Reds')\n",
    "    .set_table_styles([\n",
    "        {'selector': 'th', 'props': [('background-color', '#f2f2f2'), ('font-weight', 'bold')]},\n",
    "        {'selector': 'td', 'props': [('border', '1px solid #ccc')]},\n",
    "        {'selector': 'table', 'props': [('border-collapse', 'collapse'), ('width', '100%')]}\n",
    "    ])\n",
    "    .format({'Outlier_Score': '{:.3f}', 'Latitude': '{:.4f}', 'Longitude': '{:.4f}'})\n",
    ")\n",
    "\n",
    "styled_table\n"
   ]
  },
  {
   "cell_type": "code",
   "execution_count": 90,
   "id": "dc5d3d73",
   "metadata": {},
   "outputs": [],
   "source": [
    "# Save to CSV\n",
    "top3_all.to_csv('top3_overall_outliers.csv', index=False)\n",
    "\n",
    "# Save styled table to HTML (for viewing in browser)\n",
    "styled_table.to_html('top3_overall_outliers.html')\n"
   ]
  }
 ],
 "metadata": {
  "kernelspec": {
   "display_name": "Python 3",
   "language": "python",
   "name": "python3"
  },
  "language_info": {
   "codemirror_mode": {
    "name": "ipython",
    "version": 3
   },
   "file_extension": ".py",
   "mimetype": "text/x-python",
   "name": "python",
   "nbconvert_exporter": "python",
   "pygments_lexer": "ipython3",
   "version": "3.14.0"
  }
 },
 "nbformat": 4,
 "nbformat_minor": 5
}
